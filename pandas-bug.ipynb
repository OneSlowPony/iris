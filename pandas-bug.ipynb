{
 "cells": [
  {
   "cell_type": "markdown",
   "metadata": {},
   "source": [
    "# Diagnose where pandas fails to read compressed data"
   ]
  },
  {
   "cell_type": "code",
   "execution_count": 1,
   "metadata": {
    "collapsed": true
   },
   "outputs": [],
   "source": [
    "import pandas"
   ]
  },
  {
   "cell_type": "code",
   "execution_count": 2,
   "metadata": {
    "collapsed": true
   },
   "outputs": [],
   "source": [
    "# List of (extension, compression) tuples\n",
    "options = [\n",
    "    ('', None),\n",
    "    ('.gz', 'gzip'),\n",
    "    ('.bz2', 'bz2'),\n",
    "    ('.zip', 'zip'),\n",
    "    ('.xz', 'xz'),\n",
    "]"
   ]
  },
  {
   "cell_type": "code",
   "execution_count": 5,
   "metadata": {
    "collapsed": true
   },
   "outputs": [],
   "source": [
    "for extension, compression in options:\n",
    "    try:\n",
    "        path = 'iris.csv' + extension\n",
    "        # Infer compression\n",
    "        pandas.read_csv(path)\n",
    "        # Explicitly pass compression\n",
    "        pandas.read_csv(path, compression=compression)\n",
    "    except Exception as e:\n",
    "        print(extension, compression, e)"
   ]
  },
  {
   "cell_type": "code",
   "execution_count": 6,
   "metadata": {
    "collapsed": false
   },
   "outputs": [
    {
     "name": "stdout",
     "output_type": "stream",
     "text": [
      ".bz2 bz2 a bytes-like object is required, not 'str'\n",
      ".zip zip File is not a zip file\n",
      ".xz xz a bytes-like object is required, not 'str'\n"
     ]
    }
   ],
   "source": [
    "url = 'https://github.com/dhimmel/iris/raw/3b75c6f93c685969943f2765ffb6ce1d97ae5aaf/iris.csv'\n",
    "for extension, compression in options:\n",
    "    try:\n",
    "        pandas.read_csv(url + extension, compression=compression)\n",
    "    except Exception as e:\n",
    "        print(extension, compression, e)"
   ]
  },
  {
   "cell_type": "markdown",
   "metadata": {},
   "source": [
    "## Environment & System Information"
   ]
  },
  {
   "cell_type": "code",
   "execution_count": 8,
   "metadata": {
    "collapsed": false
   },
   "outputs": [
    {
     "name": "stdout",
     "output_type": "stream",
     "text": [
      "\n",
      "INSTALLED VERSIONS\n",
      "------------------\n",
      "commit: None\n",
      "python: 3.5.2.final.0\n",
      "python-bits: 64\n",
      "OS: Linux\n",
      "OS-release: 4.8.0-26-generic\n",
      "machine: x86_64\n",
      "processor: x86_64\n",
      "byteorder: little\n",
      "LC_ALL: None\n",
      "LANG: en_US.UTF-8\n",
      "LOCALE: en_US.UTF-8\n",
      "\n",
      "pandas: 0.19.0\n",
      "nose: 1.3.7\n",
      "pip: 8.1.2\n",
      "setuptools: 27.2.0\n",
      "Cython: 0.25.1\n",
      "numpy: 1.11.2\n",
      "scipy: 0.18.1\n",
      "statsmodels: 0.6.1\n",
      "xarray: None\n",
      "IPython: 5.1.0\n",
      "sphinx: 1.4.8\n",
      "patsy: 0.4.1\n",
      "dateutil: 2.5.3\n",
      "pytz: 2016.7\n",
      "blosc: None\n",
      "bottleneck: 1.1.0\n",
      "tables: 3.3.0\n",
      "numexpr: 2.6.1\n",
      "matplotlib: 1.5.3\n",
      "openpyxl: 2.4.0\n",
      "xlrd: 1.0.0\n",
      "xlwt: 1.1.2\n",
      "xlsxwriter: 0.9.3\n",
      "lxml: 3.6.4\n",
      "bs4: 4.5.1\n",
      "html5lib: None\n",
      "httplib2: None\n",
      "apiclient: None\n",
      "sqlalchemy: 1.1.3\n",
      "pymysql: None\n",
      "psycopg2: None\n",
      "jinja2: 2.8\n",
      "boto: 2.43.0\n",
      "pandas_datareader: None\n"
     ]
    }
   ],
   "source": [
    "pandas.show_versions()"
   ]
  }
 ],
 "metadata": {
  "anaconda-cloud": {},
  "kernelspec": {
   "display_name": "Python [default]",
   "language": "python",
   "name": "python3"
  },
  "language_info": {
   "codemirror_mode": {
    "name": "ipython",
    "version": 3
   },
   "file_extension": ".py",
   "mimetype": "text/x-python",
   "name": "python",
   "nbconvert_exporter": "python",
   "pygments_lexer": "ipython3",
   "version": "3.5.2"
  }
 },
 "nbformat": 4,
 "nbformat_minor": 1
}
